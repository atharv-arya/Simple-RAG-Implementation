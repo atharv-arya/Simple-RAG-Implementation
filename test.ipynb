{
 "cells": [
  {
   "cell_type": "code",
   "execution_count": 1,
   "metadata": {},
   "outputs": [
    {
     "data": {
      "text/plain": [
       "True"
      ]
     },
     "execution_count": 1,
     "metadata": {},
     "output_type": "execute_result"
    }
   ],
   "source": [
    "## Retrival Augmented Generation\n",
    "\n",
    "import os\n",
    "from dotenv import load_dotenv\n",
    "load_dotenv()"
   ]
  },
  {
   "cell_type": "code",
   "execution_count": 2,
   "metadata": {},
   "outputs": [],
   "source": [
    "os.environ['OPENAI_API_KEY'] = os.getenv(\"OPENAI_API_KEY\")"
   ]
  },
  {
   "cell_type": "code",
   "execution_count": 3,
   "metadata": {},
   "outputs": [],
   "source": [
    "from llama_index.legacy import VectorStoreIndex, SimpleDirectoryReader\n",
    "documents = SimpleDirectoryReader(\"data\").load_data()"
   ]
  },
  {
   "cell_type": "code",
   "execution_count": 4,
   "metadata": {},
   "outputs": [
    {
     "data": {
      "text/plain": [
       "[Document(id_='8990ff7a-90fb-4e94-a384-9a247957e597', embedding=None, metadata={'page_label': '1', 'file_name': 'questions.pdf', 'file_path': 'data/questions.pdf', 'file_type': 'application/pdf', 'file_size': 1412, 'creation_date': '2024-07-27', 'last_modified_date': '2024-07-27', 'last_accessed_date': '2024-07-27'}, excluded_embed_metadata_keys=['file_name', 'file_type', 'file_size', 'creation_date', 'last_modified_date', 'last_accessed_date'], excluded_llm_metadata_keys=['file_name', 'file_type', 'file_size', 'creation_date', 'last_modified_date', 'last_accessed_date'], relationships={}, text=\"10 Questions for a Group Game\\n1. What's your favorite movie of all time?\\n2. If you could travel anywhere in the world, where would you go?\\n3. What's the most unusual food you've ever tried?\\n4. What's your favorite childhood memory?\\n5. If you could have any superpower, what would it be?\\n6. What's your favorite book and why?\\n7. Who is your role model?\\n8. What's your favorite hobby?\\n9. If you could meet any historical figure, who would it be?\\n10. What's the best advice you've ever received?\", start_char_idx=None, end_char_idx=None, text_template='{metadata_str}\\n\\n{content}', metadata_template='{key}: {value}', metadata_seperator='\\n')]"
      ]
     },
     "execution_count": 4,
     "metadata": {},
     "output_type": "execute_result"
    }
   ],
   "source": [
    "documents"
   ]
  },
  {
   "cell_type": "code",
   "execution_count": 5,
   "metadata": {},
   "outputs": [
    {
     "data": {
      "application/vnd.jupyter.widget-view+json": {
       "model_id": "e71a3405743046b09268e1c99fa9b212",
       "version_major": 2,
       "version_minor": 0
      },
      "text/plain": [
       "Parsing nodes:   0%|          | 0/1 [00:00<?, ?it/s]"
      ]
     },
     "metadata": {},
     "output_type": "display_data"
    },
    {
     "data": {
      "application/vnd.jupyter.widget-view+json": {
       "model_id": "5567e3dd598240b1b2cc23ab2b745491",
       "version_major": 2,
       "version_minor": 0
      },
      "text/plain": [
       "Generating embeddings:   0%|          | 0/1 [00:00<?, ?it/s]"
      ]
     },
     "metadata": {},
     "output_type": "display_data"
    }
   ],
   "source": [
    "# Converting the uploaded documents into vectors and further into index\n",
    "index = VectorStoreIndex.from_documents(documents, show_progress = True)"
   ]
  },
  {
   "cell_type": "code",
   "execution_count": 6,
   "metadata": {},
   "outputs": [
    {
     "data": {
      "text/plain": [
       "<llama_index.legacy.indices.vector_store.base.VectorStoreIndex at 0x13bf95f90>"
      ]
     },
     "execution_count": 6,
     "metadata": {},
     "output_type": "execute_result"
    }
   ],
   "source": [
    "index"
   ]
  },
  {
   "cell_type": "code",
   "execution_count": 7,
   "metadata": {},
   "outputs": [],
   "source": [
    "query_engine = index.as_query_engine()"
   ]
  },
  {
   "cell_type": "code",
   "execution_count": 8,
   "metadata": {},
   "outputs": [],
   "source": [
    "response = query_engine.query(\"give me a question\")"
   ]
  },
  {
   "cell_type": "code",
   "execution_count": 9,
   "metadata": {},
   "outputs": [
    {
     "name": "stdout",
     "output_type": "stream",
     "text": [
      "Final Response: What's the most unusual food you've ever tried?\n",
      "______________________________________________________________________\n",
      "Source Node 1/1\n",
      "Node ID: 8cb9365b-9143-4796-b4ef-0d51222ad4e0\n",
      "Similarity: 0.8045528957857121\n",
      "Text: 10 Questions for a Group Game 1. What's your favorite movie of\n",
      "all time? 2. If you could travel anywhere in the world, where would\n",
      "you go? 3. What's the most unusual food you've ever tried? 4. What's\n",
      "your favorite childhood memory? 5. If you could have any superpower,\n",
      "what would it be? 6. What's your favorite book and why? 7. Who is your\n",
      "role mo...\n",
      "What's the most unusual food you've ever tried?\n"
     ]
    }
   ],
   "source": [
    "# To output the result in a better way \n",
    "from llama_index.core.response.pprint_utils import pprint_response\n",
    "pprint_response(response, show_source=True)\n",
    "print(response)"
   ]
  }
 ],
 "metadata": {
  "kernelspec": {
   "display_name": "Python 3",
   "language": "python",
   "name": "python3"
  },
  "language_info": {
   "codemirror_mode": {
    "name": "ipython",
    "version": 3
   },
   "file_extension": ".py",
   "mimetype": "text/x-python",
   "name": "python",
   "nbconvert_exporter": "python",
   "pygments_lexer": "ipython3",
   "version": "3.11.7"
  }
 },
 "nbformat": 4,
 "nbformat_minor": 2
}
